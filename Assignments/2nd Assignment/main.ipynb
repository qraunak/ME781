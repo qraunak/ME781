{
 "cells": [
  {
   "cell_type": "markdown",
   "metadata": {},
   "source": [
    "##### Write and upload a Python program that generates m random N-dimensional vectors where each coordinate of a vector follows a Gaussian distribution with zero mean and 1/N variance. The program should then calculates the distance of each vector from the origin and the angle between each pair of vectors."
   ]
  },
  {
   "cell_type": "code",
   "execution_count": 1,
   "metadata": {},
   "outputs": [],
   "source": [
    "import math\n",
    "import random"
   ]
  },
  {
   "cell_type": "code",
   "execution_count": 2,
   "metadata": {},
   "outputs": [],
   "source": [
    "def n_dim_vector(N):\n",
    "    vector = [random.gauss(0, math.sqrt(1/N)) for _ in range(N)]\n",
    "    return vector"
   ]
  },
  {
   "cell_type": "code",
   "execution_count": 4,
   "metadata": {},
   "outputs": [
    {
     "name": "stdout",
     "output_type": "stream",
     "text": [
      "[0.20550600069174427, 0.322502940053109, -0.47453549824113866, 0.33078319272018447, -0.039317472461588066]\n"
     ]
    }
   ],
   "source": [
    "print(n_dim_vector(5))"
   ]
  },
  {
   "cell_type": "code",
   "execution_count": 5,
   "metadata": {},
   "outputs": [],
   "source": [
    "def vector_magnitude(vector):\n",
    "    return math.sqrt(sum(i**2 for i in vector))"
   ]
  },
  {
   "cell_type": "code",
   "execution_count": 6,
   "metadata": {},
   "outputs": [
    {
     "name": "stdout",
     "output_type": "stream",
     "text": [
      "1.4142135623730951\n"
     ]
    }
   ],
   "source": [
    "print(vector_magnitude([1,1]))"
   ]
  },
  {
   "cell_type": "code",
   "execution_count": 9,
   "metadata": {},
   "outputs": [],
   "source": [
    "def dot_product(v1,v2):\n",
    "    return sum(i*j for i, j in zip(v1,v2))\n"
   ]
  },
  {
   "cell_type": "code",
   "execution_count": 10,
   "metadata": {},
   "outputs": [
    {
     "name": "stdout",
     "output_type": "stream",
     "text": [
      "3\n"
     ]
    }
   ],
   "source": [
    "print(dot_product([0,1],[2,3]))"
   ]
  },
  {
   "cell_type": "code",
   "execution_count": 11,
   "metadata": {},
   "outputs": [],
   "source": [
    "def angle_between_vector(v1, v2):\n",
    "    dot_product_v1_v2 = dot_product(v1,v2)\n",
    "    mag_v1= vector_magnitude(v1)\n",
    "    mag_v2= vector_magnitude(v2)\n",
    "    return math.acos(dot_product_v1_v2/(mag_v1*mag_v2))\n"
   ]
  },
  {
   "cell_type": "code",
   "execution_count": 14,
   "metadata": {},
   "outputs": [
    {
     "name": "stdout",
     "output_type": "stream",
     "text": [
      "90.0\n"
     ]
    }
   ],
   "source": [
    "print(angle_between_vector([1,0],[0,1])*180/(math.pi))"
   ]
  },
  {
   "cell_type": "code",
   "execution_count": 15,
   "metadata": {},
   "outputs": [],
   "source": [
    "m = int(input(\"Enter number of the vectors: \"))\n",
    "N = int(input(\"Number of dimension of each vector: \"))\n"
   ]
  },
  {
   "cell_type": "code",
   "execution_count": 16,
   "metadata": {},
   "outputs": [
    {
     "data": {
      "text/plain": [
       "[[0.3615226221745186, -0.5249531054631502, -0.3553958458675317],\n",
       " [0.5700974212483001, 1.0636258811092292, 1.089611553126615],\n",
       " [-0.27098759588926474, -0.0033254358679681763, -0.4033756570124293],\n",
       " [0.9079254290848131, 0.9286482282855486, -1.121315437223275],\n",
       " [-0.7070943011803977, -0.2152194193758178, 0.715409692640046],\n",
       " [-0.3797955609015645, 0.8325546891156685, -1.1156354589640776]]"
      ]
     },
     "execution_count": 16,
     "metadata": {},
     "output_type": "execute_result"
    }
   ],
   "source": [
    "vectors = [n_dim_vector(N) for _ in range(m)]\n",
    "vectors"
   ]
  },
  {
   "cell_type": "code",
   "execution_count": 23,
   "metadata": {},
   "outputs": [
    {
     "name": "stdout",
     "output_type": "stream",
     "text": [
      "Vector0 distance: 0.7297811840128816\n",
      "Vector1 distance: 1.6259041857951964\n",
      "Vector2 distance: 0.4859601386119693\n",
      "Vector3 distance: 1.7158276214212063\n",
      "Vector4 distance: 1.0286460895573288\n",
      "Vector5 distance: 1.4429256584270063\n"
     ]
    }
   ],
   "source": [
    "distances = [vector_magnitude(v) for v in vectors]\n",
    "for i, v in enumerate(distances):\n",
    "    print(f\"Vector{i} distance: {v}\")"
   ]
  },
  {
   "cell_type": "code",
   "execution_count": 27,
   "metadata": {},
   "outputs": [
    {
     "name": "stdout",
     "output_type": "stream",
     "text": [
      "Angle between vector 0 and vector 1 is 128.55225525632227 degree\n",
      "Angle between vector 0 and vector 2 is 82.3622539986744 degree\n",
      "Angle between vector 0 and vector 3 is 78.98495766856777 degree\n",
      "Angle between vector 0 and vector 4 is 121.91911160798166 degree\n",
      "Angle between vector 0 and vector 5 is 99.72439729748294 degree\n",
      "Angle between vector 1 and vector 2 is 139.13663835389815 degree\n",
      "Angle between vector 1 and vector 3 is 84.16659739590285 degree\n",
      "Angle between vector 1 and vector 4 is 84.94061297119156 degree\n",
      "Angle between vector 1 and vector 5 is 103.47303874078597 degree\n",
      "Angle between vector 2 and vector 3 is 75.8961273634085 degree\n",
      "Angle between vector 2 and vector 4 is 101.10131979996103 degree\n",
      "Angle between vector 2 and vector 5 is 38.31544116924824 degree\n",
      "Angle between vector 3 and vector 4 is 158.6675086820597 degree\n",
      "Angle between vector 3 and vector 5 is 47.2903002195607 degree\n",
      "Angle between vector 4 and vector 5 is 118.52370022544557 degree\n"
     ]
    }
   ],
   "source": [
    "angles =[]\n",
    "for i in range(m):\n",
    "    for j in range(i+1,m):\n",
    "        angle = angle_between_vector(vectors[i], vectors[j])\n",
    "        print(f\"Angle between vector {i} and vector {j} is {angle*180/(math.pi)} degree\")\n"
   ]
  }
 ],
 "metadata": {
  "kernelspec": {
   "display_name": "Python 3",
   "language": "python",
   "name": "python3"
  },
  "language_info": {
   "codemirror_mode": {
    "name": "ipython",
    "version": 3
   },
   "file_extension": ".py",
   "mimetype": "text/x-python",
   "name": "python",
   "nbconvert_exporter": "python",
   "pygments_lexer": "ipython3",
   "version": "3.12.2"
  }
 },
 "nbformat": 4,
 "nbformat_minor": 2
}
